{
 "cells": [
  {
   "metadata": {
    "ExecuteTime": {
     "end_time": "2025-05-04T06:33:53.038008Z",
     "start_time": "2025-05-04T06:33:50.538289Z"
    }
   },
   "cell_type": "code",
   "source": [
    "from src.preprocessing import preprocess_dataset\n",
    "\n",
    "preprocess_dataset(\"../data/train.csv\")"
   ],
   "id": "f95bf5266eb07ffa",
   "outputs": [
    {
     "data": {
      "text/plain": [
       "(23311    hard rate film entertainment value st century ...\n",
       " 23623    would question stick mind weeks watching emoti...\n",
       " 1020     bollywood fans pretty much hold amitabh bachan...\n",
       " 12645    pilot extremely well done lays characters bond...\n",
       " 1533     first watched robotboy found fresh interesting...\n",
       "                                ...                        \n",
       " 21575    winchester marked first series westerns involv...\n",
       " 5390     foreshadowing tori complained first boyfriend ...\n",
       " 860      movie horrible rivals ishtar number embarrassi...\n",
       " 15795    abhay deol meets attractive soha ali khan gree...\n",
       " 23654    hilarious film saw film sydney gay lesbian mar...\n",
       " Name: clean_review, Length: 20000, dtype: object,\n",
       " 6868     silent night deadly night last series like par...\n",
       " 24016    idea ia short film lot information interesting...\n",
       " 9668     movie seemed fall face main problem casting gl...\n",
       " 13640    based comicbook videogame drawing yearold noth...\n",
       " 14018    caution may contain spoilersive seen movie tim...\n",
       "                                ...                        \n",
       " 8670     wouldnt give movie rating worthy watched im pf...\n",
       " 11839    houseboat horror great title film absolutely s...\n",
       " 4013     first series brilliant easily one best horror ...\n",
       " 21147    say exciting talk fashion weird ways solve mys...\n",
       " 695      documentary founded sponge cake soon put real ...\n",
       " Name: clean_review, Length: 5000, dtype: object,\n",
       " 23311    1\n",
       " 23623    1\n",
       " 1020     0\n",
       " 12645    1\n",
       " 1533     0\n",
       "         ..\n",
       " 21575    1\n",
       " 5390     0\n",
       " 860      0\n",
       " 15795    1\n",
       " 23654    1\n",
       " Name: label, Length: 20000, dtype: int64,\n",
       " 6868     0\n",
       " 24016    1\n",
       " 9668     0\n",
       " 13640    1\n",
       " 14018    1\n",
       "         ..\n",
       " 8670     0\n",
       " 11839    0\n",
       " 4013     0\n",
       " 21147    1\n",
       " 695      0\n",
       " Name: label, Length: 5000, dtype: int64)"
      ]
     },
     "execution_count": 2,
     "metadata": {},
     "output_type": "execute_result"
    }
   ],
   "execution_count": 2
  },
  {
   "metadata": {
    "ExecuteTime": {
     "end_time": "2025-05-04T06:34:10.174718Z",
     "start_time": "2025-05-04T06:34:07.870247Z"
    }
   },
   "cell_type": "code",
   "source": "preprocess_dataset(\"../data/test.csv\")",
   "id": "a35294582194a210",
   "outputs": [
    {
     "data": {
      "text/plain": [
       "(23311    jamie foxx absolutely ray charles performance ...\n",
       " 23623    beautifully constructed traffik tells story na...\n",
       " 1020     writing minutes left film finishes feel comfor...\n",
       " 12645    radio beautiful movie based real story mentall...\n",
       " 1533     first personally adore demons demons saw altho...\n",
       "                                ...                        \n",
       " 21575    first thinking best movie ive seen ages second...\n",
       " 5390     worst waste time ive ever experienced even clo...\n",
       " 860      well aware movies set direct incorporation his...\n",
       " 15795    russell davies tasked recreating slice childho...\n",
       " 23654    hitchcock made least films ordinary man wrongl...\n",
       " Name: clean_review, Length: 20000, dtype: object,\n",
       " 6868     hate guns never murdered anyone even half even...\n",
       " 24016    like bought new tenacious album day came went ...\n",
       " 9668     seen movie several times sure one cheapest act...\n",
       " 13640    many things admire film thing got others part ...\n",
       " 14018    long ago never forgotten series often wished w...\n",
       "                                ...                        \n",
       " 8670     movie só incredibly unfunny makes man want cry...\n",
       " 11839    another entry pacinoasmentor subgenre know dri...\n",
       " 4013     extremely bargainbasement blaxploitationkungfu...\n",
       " 21147    well say movie probably funniest movie seen ye...\n",
       " 695      big spoiler right film bad enjoy good badbugge...\n",
       " Name: clean_review, Length: 5000, dtype: object,\n",
       " 23311    1\n",
       " 23623    1\n",
       " 1020     0\n",
       " 12645    1\n",
       " 1533     0\n",
       "         ..\n",
       " 21575    1\n",
       " 5390     0\n",
       " 860      0\n",
       " 15795    1\n",
       " 23654    1\n",
       " Name: label, Length: 20000, dtype: int64,\n",
       " 6868     0\n",
       " 24016    1\n",
       " 9668     0\n",
       " 13640    1\n",
       " 14018    1\n",
       "         ..\n",
       " 8670     0\n",
       " 11839    0\n",
       " 4013     0\n",
       " 21147    1\n",
       " 695      0\n",
       " Name: label, Length: 5000, dtype: int64)"
      ]
     },
     "execution_count": 3,
     "metadata": {},
     "output_type": "execute_result"
    }
   ],
   "execution_count": 3
  },
  {
   "metadata": {},
   "cell_type": "code",
   "outputs": [],
   "execution_count": null,
   "source": "",
   "id": "1c6ce0a28a4931da"
  }
 ],
 "metadata": {},
 "nbformat": 4,
 "nbformat_minor": 5
}
